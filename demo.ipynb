{
 "metadata": {
  "language_info": {
   "codemirror_mode": {
    "name": "ipython",
    "version": 3
   },
   "file_extension": ".py",
   "mimetype": "text/x-python",
   "name": "python",
   "nbconvert_exporter": "python",
   "pygments_lexer": "ipython3",
   "version": "3.8.5-final"
  },
  "orig_nbformat": 2,
  "kernelspec": {
   "name": "python38264bitbfdd07d0fb4046d39d1aa0a349ef006b",
   "display_name": "Python 3.8.2 64-bit"
  }
 },
 "nbformat": 4,
 "nbformat_minor": 2,
 "cells": [
  {
   "source": [
    "## Personalized Page Rank for Knowledge Graphs Demo"
   ],
   "cell_type": "markdown",
   "metadata": {}
  },
  {
   "source": [
    "### 1. Particle Filtering Algorithm on Random Query Nodes"
   ],
   "cell_type": "markdown",
   "metadata": {}
  },
  {
   "cell_type": "code",
   "execution_count": null,
   "metadata": {},
   "outputs": [],
   "source": [
    "%run -i main.py \\\n",
    "--graph_path graphs/Movies/graph.gpickle \\\n",
    "--output_dir output/Movies/ \\\n",
    "--num_q_nodes 5 \\\n",
    "--seed 1"
   ]
  },
  {
   "source": [
    "### 2. Aggregate Single-Source Particle Filtering on Random Query Nodes"
   ],
   "cell_type": "markdown",
   "metadata": {}
  },
  {
   "cell_type": "code",
   "execution_count": null,
   "metadata": {
    "tags": []
   },
   "outputs": [],
   "source": [
    "%run -i main.py \\\n",
    "--graph_path graphs/Movies/graph.gpickle \\\n",
    "--output_dir output/Movies/ \\\n",
    "--num_q_nodes 5 \\\n",
    "--seed 1 \\\n",
    "--run_ppr_from_each_query_node "
   ]
  },
  {
   "source": [
    "### 3. Set Keyword Constants"
   ],
   "cell_type": "markdown",
   "metadata": {}
  },
  {
   "cell_type": "code",
   "execution_count": null,
   "metadata": {},
   "outputs": [],
   "source": [
    "node_from_keyword = {}\n",
    "\n",
    "node_from_keyword[\"Tom Hanks\"] = \"http://www.wikidata.org/entity/Q2263\"\n",
    "node_from_keyword[\"Steven Spielberg\"] = \"http://www.wikidata.org/entity/Q8877\"\n",
    "node_from_keyword[\"Mrs Doubtfire\"] = \"http://www.wikidata.org/entity/Q483852\" \n",
    "node_from_keyword[\"Dumb and Dumber\"] = \"http://www.wikidata.org/entity/Q462418\" \n",
    "node_from_keyword[\"Ace Ventura\"] = \"http://www.wikidata.org/entity/Q340138\" \n",
    "node_from_keyword[\"Rush Hour\"] = \"http://www.wikidata.org/entity/Q255342\" \n"
   ]
  },
  {
   "source": [
    "### 4. Example Queries : MultiSource PPR vs PPR "
   ],
   "cell_type": "markdown",
   "metadata": {}
  },
  {
   "source": [
    "#### 4a. PPR for Steven Speilberg"
   ],
   "cell_type": "markdown",
   "metadata": {}
  },
  {
   "cell_type": "code",
   "execution_count": null,
   "metadata": {},
   "outputs": [],
   "source": [
    "\n",
    "%run -i main.py \\\n",
    "--graph_path graphs/Movies/graph.gpickle \\\n",
    "--output_dir output/Movies/ \\\n",
    "--num_q_nodes 1 \\\n",
    "--user_specified_query_nodes {node_from_keyword[\"Steven Spielberg\"]} \\\n",
    "--print_node_names_in_top_k"
   ]
  },
  {
   "source": [
    "#### 4b. PPR for Tom Hanks"
   ],
   "cell_type": "markdown",
   "metadata": {}
  },
  {
   "cell_type": "code",
   "execution_count": null,
   "metadata": {},
   "outputs": [],
   "source": [
    "\n",
    "%run -i main.py \\\n",
    "--graph_path graphs/Movies/graph.gpickle \\\n",
    "--output_dir output/Movies/ \\\n",
    "--user_specified_query_nodes {node_from_keyword[\"Tom Hanks\"]} \\\n",
    "--print_node_names_in_top_k"
   ]
  },
  {
   "source": [
    "#### 4c. PPR for Steven Speilberg + Tom Hanks"
   ],
   "cell_type": "markdown",
   "metadata": {}
  },
  {
   "cell_type": "code",
   "execution_count": null,
   "metadata": {},
   "outputs": [],
   "source": [
    "%run -i main.py \\\n",
    "--graph_path graphs/Movies/graph.gpickle \\\n",
    "--output_dir output/Movies/ \\\n",
    "--num_q_nodes 1 \\\n",
    "--user_specified_query_nodes {node_from_keyword[\"Tom Hanks\"]} {node_from_keyword[\"Steven Spielberg\"]} \\\n",
    "--print_node_names_in_top_k"
   ]
  },
  {
   "source": [
    "#### 4d. PPR over a selection of movies"
   ],
   "cell_type": "markdown",
   "metadata": {}
  },
  {
   "cell_type": "code",
   "execution_count": null,
   "metadata": {},
   "outputs": [],
   "source": [
    "\n",
    "%run -i main.py \\\n",
    "--graph_path graphs/Movies/graph.gpickle \\\n",
    "--output_dir output/Movies/ \\\n",
    "--user_specified_query_nodes {node_from_keyword[\"Rush Hour\"]} {node_from_keyword[\"Mrs Doubtfire\"]} {node_from_keyword[\"Dumb and Dumber\"]} {node_from_keyword[\"Ace Ventura\"]} \\\n",
    "--print_node_names_in_top_k "
   ]
  },
  {
   "cell_type": "code",
   "execution_count": null,
   "metadata": {},
   "outputs": [],
   "source": [
    "\n",
    "%run -i main.py \\\n",
    "--graph_path graphs/Movies/graph.gpickle \\\n",
    "--output_dir output/Movies/ \\\n",
    "--user_specified_query_nodes {node_from_keyword[\"Rush Hour\"]} {node_from_keyword[\"Mrs Doubtfire\"]} {node_from_keyword[\"Dumb and Dumber\"]} {node_from_keyword[\"Ace Ventura\"]} \\\n",
    "--run_ppr_from_each_query_node \\\n",
    "--print_node_names_in_top_k "
   ]
  }
 ]
}